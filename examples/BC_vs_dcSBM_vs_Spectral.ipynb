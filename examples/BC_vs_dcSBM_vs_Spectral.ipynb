{
 "cells": [
  {
   "cell_type": "markdown",
   "metadata": {},
   "source": [
    "## Comparison of Solution Landscapes\n",
    "### BC vs dcSBM vs Spectral Methods"
   ]
  },
  {
   "cell_type": "markdown",
   "metadata": {},
   "source": [
    "Load the package"
   ]
  },
  {
   "cell_type": "code",
   "execution_count": 1,
   "metadata": {},
   "outputs": [],
   "source": [
    "from bayesian_cut.data.load import load_data\n",
    "from bayesian_cut.cuts.bayesian_models import Model\n",
    "from bayesian_cut.cuts.spectral_models import NormCutSM, RatioCut, NewmanModularityCut\n",
    "import numpy as np"
   ]
  },
  {
   "cell_type": "markdown",
   "metadata": {},
   "source": [
    "Load an example network"
   ]
  },
  {
   "cell_type": "code",
   "execution_count": 2,
   "metadata": {},
   "outputs": [
    {
     "name": "stderr",
     "output_type": "stream",
     "text": [
      "/home/lauve/miniconda3/envs/bayesian_cut/lib/python3.6/site-packages/scipy/sparse/compressed.py:708: SparseEfficiencyWarning: Changing the sparsity structure of a csr_matrix is expensive. lil_matrix is more efficient.\n",
      "  self[i, j] = values\n"
     ]
    }
   ],
   "source": [
    "network_name = 'karate'\n",
    "X, Y = load_data(network=network_name, labels=True, remove_disconnected=True)"
   ]
  },
  {
   "cell_type": "markdown",
   "metadata": {},
   "source": [
    "Set the model parameters"
   ]
  },
  {
   "cell_type": "code",
   "execution_count": 3,
   "metadata": {},
   "outputs": [],
   "source": [
    "n_samples_per_chain = 75\n",
    "n_chains = 15\n",
    "C = 2\n",
    "\n",
    "model_params = {\n",
    "    'alpha_in': 1e-2,\n",
    "    'beta_in': 1e-2,\n",
    "    'alpha_out': 1e-2,\n",
    "    'beta_out': 1e-2,\n",
    "    'b': 1,\n",
    "    'gamma': 3\n",
    "}"
   ]
  },
  {
   "cell_type": "markdown",
   "metadata": {},
   "source": [
    "Define the models"
   ]
  },
  {
   "cell_type": "code",
   "execution_count": 4,
   "metadata": {},
   "outputs": [],
   "source": [
    "BC = Model('ShiftedApproximateBayesianCommunityDetection',\n",
    "           X,\n",
    "           model_params,\n",
    "           Y=Y,\n",
    "           C=C,\n",
    "           block_sampling=False,\n",
    "           marginalize_phi=True\n",
    "          )\n",
    "dcSBM = Model('BayesianStochasticBlockmodelSharedEtaOut',\n",
    "           X,\n",
    "           model_params,\n",
    "           Y=Y,\n",
    "           C=C,\n",
    "           block_sampling=False,\n",
    "           marginalize_phi=True\n",
    "          )"
   ]
  },
  {
   "cell_type": "markdown",
   "metadata": {},
   "source": [
    "Now let us add the number of chains for each model"
   ]
  },
  {
   "cell_type": "code",
   "execution_count": 5,
   "metadata": {},
   "outputs": [
    {
     "name": "stderr",
     "output_type": "stream",
     "text": [
      "/home/lauve/Desktop/bayesian_cut/bayesian_cut/cuts/bayesian_models.py:145: SparseEfficiencyWarning: Changing the sparsity structure of a csr_matrix is expensive. lil_matrix is more efficient.\n",
      "  self._X_blocks[:, self._sample_indices] = 0\n"
     ]
    }
   ],
   "source": [
    "BC.add_chains(number_of_chains=n_chains)\n",
    "dcSBM.add_chains(number_of_chains=n_chains)"
   ]
  },
  {
   "cell_type": "markdown",
   "metadata": {},
   "source": [
    "Now we can run the chains for each model"
   ]
  },
  {
   "cell_type": "code",
   "execution_count": 6,
   "metadata": {},
   "outputs": [],
   "source": [
    "BC.run_chains(n_samples=n_samples_per_chain,\n",
    "        n_prior_updates=20,\n",
    "        verbose=2,\n",
    "        save_all_samples=False,\n",
    "        parallel=True\n",
    "    )\n",
    "best_BC_solution = BC.get_best_chain().max_log_lik_z_"
   ]
  },
  {
   "cell_type": "code",
   "execution_count": 7,
   "metadata": {},
   "outputs": [],
   "source": [
    "dcSBM.run_chains(n_samples=n_samples_per_chain,\n",
    "        n_prior_updates=20,\n",
    "        verbose=2,\n",
    "        save_all_samples=False,\n",
    "        parallel=True\n",
    "    )\n",
    "best_dcSBM_solution = dcSBM.get_best_chain().max_log_lik_z_"
   ]
  },
  {
   "cell_type": "markdown",
   "metadata": {},
   "source": [
    "Remaining we have to explore the solution space of the spectral methods."
   ]
  },
  {
   "cell_type": "code",
   "execution_count": 8,
   "metadata": {},
   "outputs": [],
   "source": [
    "rc = RatioCut(X)\n",
    "rc.run()\n",
    "best_ratiocut = rc.z_\n",
    "\n",
    "nc = NormCutSM(X)\n",
    "nc.run()\n",
    "best_normcut = rc.z_\n",
    "\n",
    "mod = NewmanModularityCut(X)\n",
    "mod.run()\n",
    "best_modcut = mod.z_"
   ]
  },
  {
   "cell_type": "markdown",
   "metadata": {},
   "source": [
    "After finishing the sampler for both models and running the spectral methods, we can now plot the results"
   ]
  },
  {
   "cell_type": "code",
   "execution_count": 9,
   "metadata": {},
   "outputs": [],
   "source": [
    "from bayesian_cut.utils import utils"
   ]
  },
  {
   "cell_type": "markdown",
   "metadata": {},
   "source": [
    "Calling the function cluster_plot and giving the model with the sampled chains will automatically create the adjacency matrix by using the best sample obtained during sampling. The ground truth group assignment is color coded as stripes on the side of the adjacency matrix."
   ]
  },
  {
   "cell_type": "code",
   "execution_count": 10,
   "metadata": {},
   "outputs": [
    {
     "data": {
      "image/png": "[encoded data removed]",
      "text/plain": [
       "<Figure size 576x576 with 1 Axes>"
      ]
     },
     "metadata": {
      "needs_background": "light"
     },
     "output_type": "display_data"
    }
   ],
   "source": [
    "utils.cluster_plot(BC, ground_truth=Y, title='Graph Cut by BC')"
   ]
  },
  {
   "cell_type": "code",
   "execution_count": 11,
   "metadata": {},
   "outputs": [
    {
     "data": {
      "image/png": "[encoded data removed]",
      "text/plain": [
       "<Figure size 576x576 with 1 Axes>"
      ]
     },
     "metadata": {
      "needs_background": "light"
     },
     "output_type": "display_data"
    }
   ],
   "source": [
    "utils.cluster_plot(dcSBM, ground_truth=Y, title='Graph Cut by dcSBM')"
   ]
  },
  {
   "cell_type": "markdown",
   "metadata": {},
   "source": [
    "Note: For spectral models the automatic z_vector detection of the cluster_plot function for the given model does not work and we have to give the Adjacency Matrix and the z_vector of the cut to the function explicitly."
   ]
  },
  {
   "cell_type": "code",
   "execution_count": 12,
   "metadata": {},
   "outputs": [
    {
     "data": {
      "image/png": "[encoded data removed]",
      "text/plain": [
       "<Figure size 576x576 with 1 Axes>"
      ]
     },
     "metadata": {
      "needs_background": "light"
     },
     "output_type": "display_data"
    }
   ],
   "source": [
    "utils.cluster_plot(X, z_vector=best_modcut, ground_truth=Y, title='Graph Cut by Modularity Cut')"
   ]
  },
  {
   "cell_type": "code",
   "execution_count": 13,
   "metadata": {},
   "outputs": [
    {
     "data": {
      "image/png": "[encoded data removed]",
      "text/plain": [
       "<Figure size 576x576 with 1 Axes>"
      ]
     },
     "metadata": {
      "needs_background": "light"
     },
     "output_type": "display_data"
    }
   ],
   "source": [
    "utils.cluster_plot(X, z_vector=best_normcut, ground_truth=Y, title='Graph Cut by NormCut')"
   ]
  },
  {
   "cell_type": "code",
   "execution_count": 14,
   "metadata": {},
   "outputs": [
    {
     "data": {
      "image/png": "[encoded data removed]",
      "text/plain": [
       "<Figure size 576x576 with 1 Axes>"
      ]
     },
     "metadata": {
      "needs_background": "light"
     },
     "output_type": "display_data"
    }
   ],
   "source": [
    "utils.cluster_plot(X, z_vector=best_ratiocut, ground_truth=Y, title='Graph Cut by RatioCut')"
   ]
  },
  {
   "cell_type": "markdown",
   "metadata": {},
   "source": [
    "Looking at the optimal cut of each respective model, we clearly see that there is varying degree of mutual agreement, where the BayesianCut and the Modularity Cut seem to have the highest congruence.\n",
    "To get a more profound understanding of the properties of each method, we will take a close look at the underlying likelihood or cost function."
   ]
  },
  {
   "cell_type": "markdown",
   "metadata": {},
   "source": [
    "As the spectral methods usually only provide one solution (due to k-means being used for RatioCut and NormCut, the solution obtained might vary), we try to explore more of the solution space close to the original solution by introducing noise to the adjaceny matrix. In this specific case we alter 3% of the number of original links of the entire network, i.e. the Karate network having 78 links we alter 23 links out of all possible links by either removing existing links or adding new ones."
   ]
  },
  {
   "cell_type": "code",
   "execution_count": 15,
   "metadata": {},
   "outputs": [],
   "source": [
    "rc_vectors = []\n",
    "for i in range(200):\n",
    "    rc.run(add_noiselinks=0.03)\n",
    "    rc_vectors.append(rc.z_)\n",
    "\n",
    "rc_vectors = np.vstack(rc_vectors)"
   ]
  },
  {
   "cell_type": "code",
   "execution_count": 16,
   "metadata": {},
   "outputs": [],
   "source": [
    "nc_vectors=[]\n",
    "for i in range(200):\n",
    "    nc.run(add_noiselinks=0.03)\n",
    "    nc_vectors.append(nc.z_)\n",
    "\n",
    "nc_vectors = np.vstack(nc_vectors)"
   ]
  },
  {
   "cell_type": "code",
   "execution_count": 17,
   "metadata": {},
   "outputs": [],
   "source": [
    "mod_vectors=[]\n",
    "for i in range(200):\n",
    "    mod.run(add_noiselinks=0.03)\n",
    "    mod_vectors.append(mod.z_)\n",
    "\n",
    "mod_vectors = np.vstack(mod_vectors)"
   ]
  },
  {
   "cell_type": "markdown",
   "metadata": {},
   "source": [
    "Following, we aggregate all samples to create a combined posterior landscape"
   ]
  },
  {
   "cell_type": "code",
   "execution_count": 18,
   "metadata": {},
   "outputs": [],
   "source": [
    "# Add probabilistic methods\n",
    "z_matrix_bc, log_prob, _, _ = BC.aggregate_chain_samples()\n",
    "z_matrix_dcsbm, log_prob, _, _ = dcSBM.aggregate_chain_samples()\n",
    "combined_z_matrix = np.vstack((z_matrix_bc, z_matrix_dcsbm))\n",
    "\n",
    "# Keep only the unique vectors\n",
    "unique_z_matrix= np.unique(combined_z_matrix, axis=0)\n",
    "\n",
    "# Add explored space spectral methods\n",
    "combined_z_matrix = np.vstack((unique_z_matrix, rc_vectors))\n",
    "combined_z_matrix = np.vstack((combined_z_matrix, nc_vectors))\n",
    "combined_z_matrix = np.vstack((combined_z_matrix, mod_vectors))\n",
    "# Add the original soultion of the spectral methods \n",
    "combined_z_matrix = np.vstack((combined_z_matrix, best_modcut))\n",
    "combined_z_matrix = np.vstack((combined_z_matrix, best_normcut))\n",
    "combined_z_matrix = np.vstack((combined_z_matrix, best_ratiocut))\n",
    "\n",
    "# Keep only the unique vectors\n",
    "combined_z_matrix = np.unique(combined_z_matrix, axis=0)\n",
    "\n",
    "# Add new pseudo-random examples by mixing two randomly chosen vectors and taking randomly 50% of each vector\n",
    "new_z_matrix = utils.generate_new_samples_only(int(0.8 * combined_z_matrix.shape[0]), combined_z_matrix)\n",
    "\n",
    "# Combine the new samples with the original samples and keep only the unique ones\n",
    "combined_z_matrix = np.vstack((new_z_matrix, combined_z_matrix))\n",
    "combined_unique_z_matrix = np.unique(combined_z_matrix, axis=0)"
   ]
  },
  {
   "cell_type": "markdown",
   "metadata": {},
   "source": [
    "Now we calculate the similarity matrix"
   ]
  },
  {
   "cell_type": "code",
   "execution_count": 19,
   "metadata": {},
   "outputs": [],
   "source": [
    "sim_matrix = utils.calc_sim_matrix(combined_unique_z_matrix)"
   ]
  },
  {
   "cell_type": "markdown",
   "metadata": {},
   "source": [
    "Having aggregated all samples, the log-likelihoods have to be evaluated for all samples on the Bayesian Models"
   ]
  },
  {
   "cell_type": "code",
   "execution_count": 20,
   "metadata": {},
   "outputs": [],
   "source": [
    "unique_log_probs = {}\n",
    "\n",
    "unique_log_probs['BC'] = utils.recalculate_prob_for_z(BC, combined_unique_z_matrix)\n",
    "unique_log_probs['dcSBM'] = utils.recalculate_prob_for_z(dcSBM, combined_unique_z_matrix)"
   ]
  },
  {
   "cell_type": "markdown",
   "metadata": {},
   "source": [
    "The same has to be done for the spectral methods. Here we have to evaluate the objective function"
   ]
  },
  {
   "cell_type": "code",
   "execution_count": 21,
   "metadata": {},
   "outputs": [],
   "source": [
    "obective_func_eval = {}\n",
    "\n",
    "obective_func_eval['RatioCut'] = utils.calc_ratiocut_scores(combined_unique_z_matrix, X)\n",
    "obective_func_eval['NormCut'] = utils.calc_normcut_scores(combined_unique_z_matrix, X)\n",
    "obective_func_eval['ModCut'] = utils.calc_modularity_scores(combined_unique_z_matrix, X)"
   ]
  },
  {
   "cell_type": "code",
   "execution_count": 22,
   "metadata": {},
   "outputs": [
    {
     "data": {
      "text/html": [
       "<script type=\"text/javascript\">window.PlotlyConfig = {MathJaxConfig: 'local'};</script><script type=\"text/javascript\">if (window.MathJax) {MathJax.Hub.Config({SVG: {font: \"STIX-Web\"}});}</script><script>requirejs.config({paths: { 'plotly': ['https://cdn.plot.ly/plotly-latest.min']},});if(!window._Plotly) {require(['plotly'],function(plotly) {window._Plotly=plotly;});}</script>"
      ],
      "text/vnd.plotly.v1+html": [
       "<script type=\"text/javascript\">window.PlotlyConfig = {MathJaxConfig: 'local'};</script><script type=\"text/javascript\">if (window.MathJax) {MathJax.Hub.Config({SVG: {font: \"STIX-Web\"}});}</script><script>requirejs.config({paths: { 'plotly': ['https://cdn.plot.ly/plotly-latest.min']},});if(!window._Plotly) {require(['plotly'],function(plotly) {window._Plotly=plotly;});}</script>"
      ]
     },
     "metadata": {},
     "output_type": "display_data"
    }
   ],
   "source": [
    "from plotly.offline import download_plotlyjs, init_notebook_mode, plot, iplot\n",
    "init_notebook_mode(connected=True)"
   ]
  },
  {
   "cell_type": "markdown",
   "metadata": {},
   "source": [
    "Now that we have calculated the log-likelihood/utility landscape for both models using all samples, we can plot the landscape to analyze the solution space of each model."
   ]
  },
  {
   "cell_type": "code",
   "execution_count": 23,
   "metadata": {},
   "outputs": [],
   "source": [
    "z_solutions = [best_BC_solution, best_dcSBM_solution, best_modcut, best_normcut, best_ratiocut]"
   ]
  },
  {
   "cell_type": "code",
   "execution_count": null,
   "metadata": {},
   "outputs": [],
   "source": [
    "utils.landscape_plotting_notebook(sim_matrix, unique_log_probs['BC'], z_solutions=z_solutions,\n",
    "                                  z_matrix=combined_unique_z_matrix, z_title='log-likelihood',\n",
    "                                  title='Solution landscape BC')"
   ]
  },
  {
   "cell_type": "markdown",
   "metadata": {},
   "source": [
    "The output of the plot is not contained in this notebook, because it will add approximately 40Mb to the size of the notebook.\n",
    "Running this code will give an interactive plotly output, which looks like\n",
    "![](https://github.com/DTUComputeCognitiveSystems/bayesian_cut/raw/master/examples/figures/BC_vs_dcSBM_and_Spectral.png \"BC_landscape\")"
   ]
  },
  {
   "cell_type": "code",
   "execution_count": null,
   "metadata": {},
   "outputs": [],
   "source": [
    "utils.landscape_plotting_notebook(sim_matrix, unique_log_probs['dcSBM'], z_solutions=z_solutions,\n",
    "                                  z_matrix=combined_unique_z_matrix, z_title='log-likelihood',\n",
    "                                  title='Solution landscape dcSBM')"
   ]
  },
  {
   "cell_type": "markdown",
   "metadata": {},
   "source": [
    "The output of the plot is not contained in this notebook, because it will add approximately 40Mb to the size of the notebook.\n",
    "Running this code will give an interactive plotly output, which looks like\n",
    "![](https://github.com/DTUComputeCognitiveSystems/bayesian_cut/raw/master/examples/figures/dcSBM_vs_BC_and_Spectral.png 'dcSBM_landscape')"
   ]
  },
  {
   "cell_type": "markdown",
   "metadata": {},
   "source": [
    "Looking at those two plots, we can clearly see the impact the community constraint $b$ has on the solution landscape by removing the modes not exhibiting community structures, which leads to a more reasonable cut."
   ]
  },
  {
   "cell_type": "code",
   "execution_count": null,
   "metadata": {},
   "outputs": [],
   "source": [
    "utils.landscape_plotting_notebook(sim_matrix, obective_func_eval['ModCut'], z_solutions=z_solutions,\n",
    "                                  z_matrix=combined_unique_z_matrix, z_title='Modularity',\n",
    "                                  title='Solution landscape Modularity')"
   ]
  },
  {
   "cell_type": "markdown",
   "metadata": {},
   "source": [
    "The output of the plot is not contained in this notebook, because it will add approximately 40Mb to the size of the notebook.\n",
    "Running this code will give an interactive plotly output, which looks like\n",
    "![](https://github.com/DTUComputeCognitiveSystems/bayesian_cut/raw/master/examples/figures/ModCut_vs_Bayesian_and_Spectral.png 'ModCut_landscape')"
   ]
  },
  {
   "cell_type": "code",
   "execution_count": null,
   "metadata": {},
   "outputs": [],
   "source": [
    "utils.landscape_plotting_notebook(sim_matrix, -obective_func_eval['NormCut'], z_solutions=z_solutions,\n",
    "                                  z_matrix=combined_unique_z_matrix, z_title='Cost of Cut',\n",
    "                                  title='Solution landscape NormCut')"
   ]
  },
  {
   "cell_type": "markdown",
   "metadata": {},
   "source": [
    "Note: The solution landscape of the costfunction is inverted for NormCut to maintain the logic of optimum solutions having the highest value."
   ]
  },
  {
   "cell_type": "markdown",
   "metadata": {},
   "source": [
    "The output of the plot is not contained in this notebook, because it will add approximately 40Mb to the size of the notebook.\n",
    "Running this code will give an interactive plotly output, which looks like\n",
    "![](https://github.com/DTUComputeCognitiveSystems/bayesian_cut/raw/master/examples/figures/NormCut_vs_Bayes_and_Spectral.png 'NormCut_landscape')"
   ]
  },
  {
   "cell_type": "code",
   "execution_count": null,
   "metadata": {},
   "outputs": [],
   "source": [
    "utils.landscape_plotting_notebook(sim_matrix, -obective_func_eval['RatioCut'], z_solutions=z_solutions,\n",
    "                                  z_matrix=combined_unique_z_matrix, z_title='Cost of Cut',\n",
    "                                  title='Solution landscape RatioCut')"
   ]
  },
  {
   "cell_type": "markdown",
   "metadata": {},
   "source": [
    "Note: The solution landscape of the costfunction is inverted for RatioCut to maintain the logic of optimum solutions having the highest value."
   ]
  },
  {
   "cell_type": "markdown",
   "metadata": {},
   "source": [
    "The output of the plot is not contained in this notebook, because it will add approximately 40Mb to the size of the notebook.\n",
    "Running this code will give an interactive plotly output, which looks like\n",
    "![](https://github.com/DTUComputeCognitiveSystems/bayesian_cut/raw/master/examples/figures/RatioCut_vs_Bayes_and_Spectral.png 'RatioCut_landscape')"
   ]
  },
  {
   "cell_type": "markdown",
   "metadata": {},
   "source": [
    "Concluding, the similarity between the spectral methods and the Bayesian Cut is clearly shown while the strongest congruence can be found between the solution landscape of the modularity cut and the bayesian Cut.\n",
    "Interestingly, these two models distinguish themselves from the RatioCut and NormCut by not supporting the extremely isolated maxima those solutions obtain and thereby show their strong support for balanced communities."
   ]
  },
  {
   "cell_type": "code",
   "execution_count": null,
   "metadata": {},
   "outputs": [],
   "source": []
  }
 ],
 "metadata": {
  "kernelspec": {
   "display_name": "Python 3",
   "language": "python",
   "name": "python3"
  },
  "language_info": {
   "codemirror_mode": {
    "name": "ipython",
    "version": 3
   },
   "file_extension": ".py",
   "mimetype": "text/x-python",
   "name": "python",
   "nbconvert_exporter": "python",
   "pygments_lexer": "ipython3",
   "version": "3.6.8"
  }
 },
 "nbformat": 4,
 "nbformat_minor": 2
}
