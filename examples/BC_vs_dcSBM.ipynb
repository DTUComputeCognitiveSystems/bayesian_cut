{
 "cells": [
  {
   "cell_type": "markdown",
   "metadata": {},
   "source": [
    "## Bayesian Cut Introduction\n",
    "### BC vs dcSBM"
   ]
  },
  {
   "cell_type": "markdown",
   "metadata": {},
   "source": [
    "Load the package"
   ]
  },
  {
   "cell_type": "code",
   "execution_count": 2,
   "metadata": {},
   "outputs": [],
   "source": [
    "from bayesian_cut.data.load import load_data\n",
    "from bayesian_cut.cuts.bayesian_models import Model"
   ]
  },
  {
   "cell_type": "markdown",
   "metadata": {},
   "source": [
    "Load an example network"
   ]
  },
  {
   "cell_type": "code",
   "execution_count": 3,
   "metadata": {},
   "outputs": [
    {
     "name": "stderr",
     "output_type": "stream",
     "text": [
      "/home/lauve/miniconda3/envs/bayesian_cut/lib/python3.6/site-packages/scipy/sparse/compressed.py:708: SparseEfficiencyWarning: Changing the sparsity structure of a csr_matrix is expensive. lil_matrix is more efficient.\n",
      "  self[i, j] = values\n"
     ]
    }
   ],
   "source": [
    "network_name = 'karate'\n",
    "X, Y = load_data(network=network_name, labels=True, remove_disconnected=True)"
   ]
  },
  {
   "cell_type": "markdown",
   "metadata": {},
   "source": [
    "Set the model parameters"
   ]
  },
  {
   "cell_type": "code",
   "execution_count": 4,
   "metadata": {},
   "outputs": [],
   "source": [
    "n_samples_per_chain = 75\n",
    "n_chains = 15\n",
    "C = 2\n",
    "\n",
    "model_params = {\n",
    "    'alpha_in': 1e-2,\n",
    "    'beta_in': 1e-2,\n",
    "    'alpha_out': 1e-2,\n",
    "    'beta_out': 1e-2,\n",
    "    'b': 1,\n",
    "    'gamma': 3\n",
    "}"
   ]
  },
  {
   "cell_type": "markdown",
   "metadata": {},
   "source": [
    "Define the models"
   ]
  },
  {
   "cell_type": "code",
   "execution_count": 5,
   "metadata": {},
   "outputs": [],
   "source": [
    "BC = Model('ShiftedApproximateBayesianCommunityDetection',\n",
    "           X,\n",
    "           model_params,\n",
    "           Y=Y,\n",
    "           C=C,\n",
    "           block_sampling=False,\n",
    "           marginalize_phi=True\n",
    "          )\n",
    "dcSBM = Model('BayesianStochasticBlockmodelSharedEtaOut',\n",
    "           X,\n",
    "           model_params,\n",
    "           Y=Y,\n",
    "           C=C,\n",
    "           block_sampling=False,\n",
    "           marginalize_phi=True\n",
    "          )"
   ]
  },
  {
   "cell_type": "markdown",
   "metadata": {},
   "source": [
    "Now let us add the number of chains for each model"
   ]
  },
  {
   "cell_type": "code",
   "execution_count": 6,
   "metadata": {},
   "outputs": [
    {
     "name": "stderr",
     "output_type": "stream",
     "text": [
      "/home/lauve/Desktop/bayesian_cut/bayesian_cut/cuts/bayesian_models.py:144: SparseEfficiencyWarning: Changing the sparsity structure of a csr_matrix is expensive. lil_matrix is more efficient.\n",
      "  self._X_blocks[:, self._sample_indices] = 0\n"
     ]
    }
   ],
   "source": [
    "BC.add_chains(number_of_chains=n_chains)\n",
    "dcSBM.add_chains(number_of_chains=n_chains)"
   ]
  },
  {
   "cell_type": "markdown",
   "metadata": {},
   "source": [
    "Now we can run the chains for each model"
   ]
  },
  {
   "cell_type": "code",
   "execution_count": 7,
   "metadata": {},
   "outputs": [],
   "source": [
    "BC.run_chains(n_samples=n_samples_per_chain,\n",
    "        n_prior_updates=20,\n",
    "        verbose=2,\n",
    "        save_all_samples=False,\n",
    "        parallel=True\n",
    "    )"
   ]
  },
  {
   "cell_type": "code",
   "execution_count": 8,
   "metadata": {},
   "outputs": [],
   "source": [
    "dcSBM.run_chains(n_samples=n_samples_per_chain,\n",
    "        n_prior_updates=20,\n",
    "        verbose=2,\n",
    "        save_all_samples=False,\n",
    "        parallel=True\n",
    "    )"
   ]
  },
  {
   "cell_type": "markdown",
   "metadata": {},
   "source": [
    "After finishing the sampler for both models, we can now plot the results"
   ]
  },
  {
   "cell_type": "code",
   "execution_count": 9,
   "metadata": {},
   "outputs": [],
   "source": [
    "from bayesian_cut.utils import utils"
   ]
  },
  {
   "cell_type": "markdown",
   "metadata": {},
   "source": [
    "Calling the function cluster_plot and giving the model with the sampled chains will automatically create the adjacency matrix by using the best sample obtained during sampling"
   ]
  },
  {
   "cell_type": "code",
   "execution_count": 10,
   "metadata": {},
   "outputs": [
    {
     "data": {
      "image/png": "[encoded data removed]",
      "text/plain": [
       "<Figure size 576x576 with 1 Axes>"
      ]
     },
     "metadata": {},
     "output_type": "display_data"
    }
   ],
   "source": [
    "utils.cluster_plot(BC, title='Graph Cut by BC')"
   ]
  },
  {
   "cell_type": "code",
   "execution_count": 11,
   "metadata": {},
   "outputs": [
    {
     "data": {
      "image/png": "[encoded data removed]",
      "text/plain": [
       "<Figure size 576x576 with 1 Axes>"
      ]
     },
     "metadata": {},
     "output_type": "display_data"
    }
   ],
   "source": [
    "utils.cluster_plot(dcSBM, title='Graph Cut by dcSBM')"
   ]
  },
  {
   "cell_type": "markdown",
   "metadata": {},
   "source": [
    "Looking at the optimal cut of each respective model, we clearly see that there is a strong discrepancy between the two models.\n",
    "Therefore, we now take a look at the sampled solution spaces by each method to show the differences of the models."
   ]
  },
  {
   "cell_type": "markdown",
   "metadata": {},
   "source": [
    "First we aggregate all samples to create a combined posterior landscape"
   ]
  },
  {
   "cell_type": "code",
   "execution_count": 12,
   "metadata": {},
   "outputs": [],
   "source": [
    "# Aggregate all samples\n",
    "import numpy as np\n",
    "z_matrix = None\n",
    "z_matrix, _, _, _ = BC.aggregate_chain_samples(with_burn_in=True)\n",
    "z_agg, _, _, _ = dcSBM.aggregate_chain_samples(with_burn_in=True)\n",
    "z_matrix = np.vstack((z_matrix, z_agg))\n",
    "\n",
    "unique_z_matrix = np.unique(z_matrix, return_index=False, axis=0)\n",
    "\n",
    "new_z_matrix = utils.generate_new_samples_only(int(0.5 * unique_z_matrix.shape[0]), unique_z_matrix)\n",
    "\n",
    "combined_z_matrix = np.vstack((new_z_matrix, unique_z_matrix))\n",
    "\n",
    "combined_unique_z_matrix, indices = np.unique(combined_z_matrix, return_index=True, axis=0)"
   ]
  },
  {
   "cell_type": "markdown",
   "metadata": {},
   "source": [
    "Followingly, the entire log probabilities have to be evaluated for all the samples and each model"
   ]
  },
  {
   "cell_type": "code",
   "execution_count": 13,
   "metadata": {},
   "outputs": [],
   "source": [
    "unique_log_probs = {}\n",
    "\n",
    "unique_log_probs['BC'] = utils.recalculate_prob_for_z(BC, combined_unique_z_matrix)\n",
    "unique_log_probs['dcSBM'] = utils.recalculate_prob_for_z(dcSBM, combined_unique_z_matrix)\n",
    "\n",
    "# Calculate the similarity matrix for it\n",
    "sim_matrix = utils.calc_sim_matrix(combined_unique_z_matrix)"
   ]
  },
  {
   "cell_type": "code",
   "execution_count": 14,
   "metadata": {},
   "outputs": [
    {
     "data": {
      "text/html": [
       "<script type=\"text/javascript\">window.PlotlyConfig = {MathJaxConfig: 'local'};</script><script type=\"text/javascript\">if (window.MathJax) {MathJax.Hub.Config({SVG: {font: \"STIX-Web\"}});}</script><script>requirejs.config({paths: { 'plotly': ['https://cdn.plot.ly/plotly-latest.min']},});if(!window._Plotly) {require(['plotly'],function(plotly) {window._Plotly=plotly;});}</script>"
      ],
      "text/vnd.plotly.v1+html": [
       "<script type=\"text/javascript\">window.PlotlyConfig = {MathJaxConfig: 'local'};</script><script type=\"text/javascript\">if (window.MathJax) {MathJax.Hub.Config({SVG: {font: \"STIX-Web\"}});}</script><script>requirejs.config({paths: { 'plotly': ['https://cdn.plot.ly/plotly-latest.min']},});if(!window._Plotly) {require(['plotly'],function(plotly) {window._Plotly=plotly;});}</script>"
      ]
     },
     "metadata": {},
     "output_type": "display_data"
    }
   ],
   "source": [
    "from plotly.offline import download_plotlyjs, init_notebook_mode, plot, iplot\n",
    "init_notebook_mode(connected=True)"
   ]
  },
  {
   "cell_type": "markdown",
   "metadata": {},
   "source": [
    "Now that we have calculated the log-likelihood landscape for both models using the joint posterior, we can\n",
    "plot the landscape to analyze the solution space of each model."
   ]
  },
  {
   "cell_type": "code",
   "execution_count": null,
   "metadata": {},
   "outputs": [],
   "source": [
    "utils.landscape_plotting_notebook(sim_matrix, unique_log_probs['BC'], z_solutions=[BC.get_best_chain().max_log_lik_z_, dcSBM.get_best_chain().max_log_lik_z_],\n",
    "                                  z_matrix=combined_unique_z_matrix, z_title='log-likelihood', title='Solution landscape')"
   ]
  },
  {
   "cell_type": "markdown",
   "metadata": {},
   "source": [
    "The output of the plot is not contained in this notebook, because it will add approximately 40Mb to the size of the notebook.\n",
    "Running this code will give an interactive plotly output, which looks like\n",
    "![](https://github.com/DTUComputeCognitiveSystems/bayesian_cut/raw/master/examples/BC_landscape.png \"BC_landscape\")"
   ]
  },
  {
   "cell_type": "markdown",
   "metadata": {},
   "source": [
    "![](BC_landscape.png \"BC_landscape\")"
   ]
  },
  {
   "cell_type": "code",
   "execution_count": null,
   "metadata": {},
   "outputs": [],
   "source": [
    "utils.landscape_plotting_notebook(sim_matrix, unique_log_probs['dcSBM'], z_solutions=[BC.get_best_chain().max_log_lik_z_, dcSBM.get_best_chain().max_log_lik_z_],\n",
    "                                  z_matrix=combined_unique_z_matrix, z_title='log-likelihood', title='Solution landscape')"
   ]
  },
  {
   "cell_type": "markdown",
   "metadata": {},
   "source": [
    "The output of the plot is not contained in this notebook, because it will add approximately 40Mb to the size of the notebook.\n",
    "Running this code will give an interactive plotly output, which looks like\n",
    "![](https://github.com/DTUComputeCognitiveSystems/bayesian_cut/raw/master/examples/BC_landscape.png \"BC_landscape\")"
   ]
  },
  {
   "cell_type": "markdown",
   "metadata": {},
   "source": [
    "![](dcSBM_landscape.png 'dcSBM_landscape')"
   ]
  },
  {
   "cell_type": "markdown",
   "metadata": {},
   "source": [
    "Looking at those two plots, we can clearly see the impact the community constraint $b$ has on the solution landscape, which leads to a more reasonable cut."
   ]
  },
  {
   "cell_type": "code",
   "execution_count": null,
   "metadata": {},
   "outputs": [],
   "source": []
  }
 ],
 "metadata": {
  "kernelspec": {
   "display_name": "Python 3",
   "language": "python",
   "name": "python3"
  },
  "language_info": {
   "codemirror_mode": {
    "name": "ipython",
    "version": 3
   },
   "file_extension": ".py",
   "mimetype": "text/x-python",
   "name": "python",
   "nbconvert_exporter": "python",
   "pygments_lexer": "ipython3",
   "version": "3.6.8"
  }
 },
 "nbformat": 4,
 "nbformat_minor": 2
}
